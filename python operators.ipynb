{
 "cells": [
  {
   "cell_type": "code",
   "execution_count": null,
   "id": "90a71973",
   "metadata": {},
   "outputs": [],
   "source": [
    "a = [1,2,3,4]"
   ]
  },
  {
   "cell_type": "code",
   "execution_count": 22,
   "id": "869ba62e",
   "metadata": {},
   "outputs": [],
   "source": [
    "a = list(range(21))"
   ]
  },
  {
   "cell_type": "code",
   "execution_count": 23,
   "id": "4372f58a",
   "metadata": {},
   "outputs": [
    {
     "data": {
      "text/plain": [
       "[0, 1, 2, 3, 4, 5, 6, 7, 8, 9, 10, 11, 12, 13, 14, 15, 16, 17, 18, 19, 20]"
      ]
     },
     "execution_count": 23,
     "metadata": {},
     "output_type": "execute_result"
    }
   ],
   "source": [
    "a"
   ]
  },
  {
   "cell_type": "markdown",
   "id": "2233653e",
   "metadata": {},
   "source": [
    "start, stop, step"
   ]
  },
  {
   "cell_type": "code",
   "execution_count": 24,
   "id": "752485ba",
   "metadata": {},
   "outputs": [],
   "source": [
    "a = list(range(1, 21))"
   ]
  },
  {
   "cell_type": "code",
   "execution_count": 25,
   "id": "30f40760",
   "metadata": {},
   "outputs": [
    {
     "data": {
      "text/plain": [
       "[1, 2, 3, 4, 5, 6, 7, 8, 9, 10, 11, 12, 13, 14, 15, 16, 17, 18, 19, 20]"
      ]
     },
     "execution_count": 25,
     "metadata": {},
     "output_type": "execute_result"
    }
   ],
   "source": [
    "a"
   ]
  },
  {
   "cell_type": "code",
   "execution_count": 26,
   "id": "abefadad",
   "metadata": {},
   "outputs": [],
   "source": [
    "a = list(range(1,21,2))"
   ]
  },
  {
   "cell_type": "code",
   "execution_count": 27,
   "id": "0f7e6399",
   "metadata": {},
   "outputs": [
    {
     "data": {
      "text/plain": [
       "[1, 3, 5, 7, 9, 11, 13, 15, 17, 19]"
      ]
     },
     "execution_count": 27,
     "metadata": {},
     "output_type": "execute_result"
    }
   ],
   "source": [
    "a"
   ]
  },
  {
   "cell_type": "code",
   "execution_count": 30,
   "id": "678b1593",
   "metadata": {},
   "outputs": [
    {
     "name": "stdout",
     "output_type": "stream",
     "text": [
      "cool\n",
      "cool\n",
      "cool\n",
      "cool\n",
      "cool\n",
      "cool\n",
      "cool\n",
      "cool\n",
      "cool\n",
      "cool\n"
     ]
    }
   ],
   "source": [
    "for i in range(10):\n",
    "    print(\"cool\")"
   ]
  },
  {
   "cell_type": "code",
   "execution_count": 32,
   "id": "d289d8fb",
   "metadata": {},
   "outputs": [
    {
     "data": {
      "text/plain": [
       "[0, 1, 2, 3, 4, 5, 6, 7, 8, 9, 10, 11, 12, 13, 14, 15]"
      ]
     },
     "execution_count": 32,
     "metadata": {},
     "output_type": "execute_result"
    }
   ],
   "source": [
    "list(range(16))"
   ]
  },
  {
   "cell_type": "markdown",
   "id": "d94804c4",
   "metadata": {},
   "source": [
    "enumerate"
   ]
  },
  {
   "cell_type": "code",
   "execution_count": 36,
   "id": "59f87e53",
   "metadata": {},
   "outputs": [
    {
     "name": "stdout",
     "output_type": "stream",
     "text": [
      "At index 0, letter is A\n",
      "At index 1, letter is n\n",
      "At index 2, letter is d\n",
      "At index 3, letter is e\n",
      "At index 4, letter is r\n",
      "At index 5, letter is s\n",
      "At index 6, letter is o\n",
      "At index 7, letter is n\n"
     ]
    }
   ],
   "source": [
    "name = \"Anderson\"\n",
    "index_count = 0\n",
    "\n",
    "for letter in name:\n",
    "    print(f'At index {index_count}, letter is {letter}')\n",
    "    \n",
    "    index_count += 1"
   ]
  },
  {
   "cell_type": "code",
   "execution_count": 37,
   "id": "bdeb48c9",
   "metadata": {},
   "outputs": [
    {
     "name": "stdout",
     "output_type": "stream",
     "text": [
      "(0, 'A')\n",
      "(1, 'n')\n",
      "(2, 'd')\n",
      "(3, 'e')\n",
      "(4, 'r')\n",
      "(5, 's')\n",
      "(6, 'o')\n",
      "(7, 'n')\n"
     ]
    }
   ],
   "source": [
    "name = \"Anderson\"\n",
    "\n",
    "\n",
    "for item in enumerate(name):\n",
    "    print(item)\n",
    "    "
   ]
  },
  {
   "cell_type": "code",
   "execution_count": 47,
   "id": "ea5b1740",
   "metadata": {},
   "outputs": [
    {
     "name": "stdout",
     "output_type": "stream",
     "text": [
      "0\n",
      "A\n",
      "\n",
      "1\n",
      "n\n",
      "\n",
      "2\n",
      "d\n",
      "\n",
      "3\n",
      "e\n",
      "\n",
      "4\n",
      "r\n",
      "\n",
      "5\n",
      "s\n",
      "\n",
      "6\n",
      "o\n",
      "\n",
      "7\n",
      "n\n",
      "\n"
     ]
    }
   ],
   "source": [
    "name = \"Anderson\"\n",
    "\n",
    "\n",
    "for a , b in enumerate(name):\n",
    "    print(a)\n",
    "    print(b)\n",
    "    print(\"\")\n",
    "    "
   ]
  },
  {
   "cell_type": "code",
   "execution_count": null,
   "id": "d16f16ad",
   "metadata": {},
   "outputs": [],
   "source": []
  }
 ],
 "metadata": {
  "kernelspec": {
   "display_name": "Python 3 (ipykernel)",
   "language": "python",
   "name": "python3"
  },
  "language_info": {
   "codemirror_mode": {
    "name": "ipython",
    "version": 3
   },
   "file_extension": ".py",
   "mimetype": "text/x-python",
   "name": "python",
   "nbconvert_exporter": "python",
   "pygments_lexer": "ipython3",
   "version": "3.9.7"
  }
 },
 "nbformat": 4,
 "nbformat_minor": 5
}
